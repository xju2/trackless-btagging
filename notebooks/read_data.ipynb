{
 "cells": [
  {
   "cell_type": "code",
   "execution_count": 77,
   "metadata": {
    "tags": []
   },
   "outputs": [],
   "source": [
    "import uproot\n",
    "import awkward\n",
    "import numpy as np"
   ]
  },
  {
   "cell_type": "code",
   "execution_count": 2,
   "metadata": {
    "tags": []
   },
   "outputs": [
    {
     "name": "stdout",
     "output_type": "stream",
     "text": [
      "/global/homes/x/xju/.conda/envs/py3.9/bin/python\n"
     ]
    }
   ],
   "source": [
    "!which python"
   ]
  },
  {
   "cell_type": "code",
   "execution_count": 3,
   "metadata": {
    "tags": []
   },
   "outputs": [
    {
     "name": "stdout",
     "output_type": "stream",
     "text": [
      "5.0.6\n"
     ]
    }
   ],
   "source": [
    "print(uproot.__version__)"
   ]
  },
  {
   "cell_type": "markdown",
   "metadata": {},
   "source": [
    "You may have to update the syntax if you are using a different `uproot5` version."
   ]
  },
  {
   "cell_type": "code",
   "execution_count": 4,
   "metadata": {
    "tags": []
   },
   "outputs": [],
   "source": [
    "filename = \"/global/cfs/cdirs/m3443/data/TracklessBtagging/v1/Delphe_Hbb_5k_s1234.root\"\n",
    "tree_name = \"Delphes\""
   ]
  },
  {
   "cell_type": "code",
   "execution_count": 5,
   "metadata": {
    "tags": []
   },
   "outputs": [],
   "source": [
    "tree = uproot.open(filename)[tree_name]"
   ]
  },
  {
   "cell_type": "markdown",
   "metadata": {},
   "source": [
    "## Print all branches in the TTree"
   ]
  },
  {
   "cell_type": "markdown",
   "metadata": {},
   "source": [
    "### Branches of interest\n",
    "\n",
    "We are interested in:\n",
    "\n",
    "* \"Jet\" (jet object, which we will identify b-jets from), \n",
    "* \"Track\" (trajectories associated with a jet), \n",
    "* and \"Tower\" (energy deposits associated with a jet)\n",
    "\n"
   ]
  },
  {
   "cell_type": "code",
   "execution_count": 7,
   "metadata": {
    "collapsed": true,
    "jupyter": {
     "outputs_hidden": true
    },
    "tags": []
   },
   "outputs": [
    {
     "data": {
      "text/plain": [
       "['Event',\n",
       " 'Event/Event.fUniqueID',\n",
       " 'Event/Event.fBits',\n",
       " 'Event/Event.Number',\n",
       " 'Event/Event.ReadTime',\n",
       " 'Event/Event.ProcTime',\n",
       " 'Event/Event.ProcessID',\n",
       " 'Event/Event.MPI',\n",
       " 'Event/Event.Weight',\n",
       " 'Event/Event.CrossSection',\n",
       " 'Event/Event.CrossSectionError',\n",
       " 'Event/Event.Scale',\n",
       " 'Event/Event.AlphaQED',\n",
       " 'Event/Event.AlphaQCD',\n",
       " 'Event/Event.ID1',\n",
       " 'Event/Event.ID2',\n",
       " 'Event/Event.X1',\n",
       " 'Event/Event.X2',\n",
       " 'Event/Event.ScalePDF',\n",
       " 'Event/Event.PDF1',\n",
       " 'Event/Event.PDF2',\n",
       " 'Event_size',\n",
       " 'Particle',\n",
       " 'Particle/Particle.fUniqueID',\n",
       " 'Particle/Particle.fBits',\n",
       " 'Particle/Particle.PID',\n",
       " 'Particle/Particle.Status',\n",
       " 'Particle/Particle.IsPU',\n",
       " 'Particle/Particle.M1',\n",
       " 'Particle/Particle.M2',\n",
       " 'Particle/Particle.D1',\n",
       " 'Particle/Particle.D2',\n",
       " 'Particle/Particle.Charge',\n",
       " 'Particle/Particle.Mass',\n",
       " 'Particle/Particle.E',\n",
       " 'Particle/Particle.Px',\n",
       " 'Particle/Particle.Py',\n",
       " 'Particle/Particle.Pz',\n",
       " 'Particle/Particle.P',\n",
       " 'Particle/Particle.PT',\n",
       " 'Particle/Particle.Eta',\n",
       " 'Particle/Particle.Phi',\n",
       " 'Particle/Particle.Rapidity',\n",
       " 'Particle/Particle.T',\n",
       " 'Particle/Particle.X',\n",
       " 'Particle/Particle.Y',\n",
       " 'Particle/Particle.Z',\n",
       " 'Particle_size',\n",
       " 'Track',\n",
       " 'Track/Track.fUniqueID',\n",
       " 'Track/Track.fBits',\n",
       " 'Track/Track.PID',\n",
       " 'Track/Track.Charge',\n",
       " 'Track/Track.P',\n",
       " 'Track/Track.PT',\n",
       " 'Track/Track.Eta',\n",
       " 'Track/Track.Phi',\n",
       " 'Track/Track.CtgTheta',\n",
       " 'Track/Track.C',\n",
       " 'Track/Track.Mass',\n",
       " 'Track/Track.EtaOuter',\n",
       " 'Track/Track.PhiOuter',\n",
       " 'Track/Track.T',\n",
       " 'Track/Track.X',\n",
       " 'Track/Track.Y',\n",
       " 'Track/Track.Z',\n",
       " 'Track/Track.TOuter',\n",
       " 'Track/Track.XOuter',\n",
       " 'Track/Track.YOuter',\n",
       " 'Track/Track.ZOuter',\n",
       " 'Track/Track.Xd',\n",
       " 'Track/Track.Yd',\n",
       " 'Track/Track.Zd',\n",
       " 'Track/Track.L',\n",
       " 'Track/Track.D0',\n",
       " 'Track/Track.DZ',\n",
       " 'Track/Track.Nclusters',\n",
       " 'Track/Track.dNdx',\n",
       " 'Track/Track.ErrorP',\n",
       " 'Track/Track.ErrorPT',\n",
       " 'Track/Track.ErrorPhi',\n",
       " 'Track/Track.ErrorCtgTheta',\n",
       " 'Track/Track.ErrorT',\n",
       " 'Track/Track.ErrorD0',\n",
       " 'Track/Track.ErrorDZ',\n",
       " 'Track/Track.ErrorC',\n",
       " 'Track/Track.ErrorD0Phi',\n",
       " 'Track/Track.ErrorD0C',\n",
       " 'Track/Track.ErrorD0DZ',\n",
       " 'Track/Track.ErrorD0CtgTheta',\n",
       " 'Track/Track.ErrorPhiC',\n",
       " 'Track/Track.ErrorPhiDZ',\n",
       " 'Track/Track.ErrorPhiCtgTheta',\n",
       " 'Track/Track.ErrorCDZ',\n",
       " 'Track/Track.ErrorCCtgTheta',\n",
       " 'Track/Track.ErrorDZCtgTheta',\n",
       " 'Track/Track.Particle',\n",
       " 'Track/Track.VertexIndex',\n",
       " 'Track_size',\n",
       " 'Tower',\n",
       " 'Tower/Tower.fUniqueID',\n",
       " 'Tower/Tower.fBits',\n",
       " 'Tower/Tower.ET',\n",
       " 'Tower/Tower.Eta',\n",
       " 'Tower/Tower.Phi',\n",
       " 'Tower/Tower.E',\n",
       " 'Tower/Tower.T',\n",
       " 'Tower/Tower.NTimeHits',\n",
       " 'Tower/Tower.Eem',\n",
       " 'Tower/Tower.Ehad',\n",
       " 'Tower/Tower.Edges[4]',\n",
       " 'Tower/Tower.Particles',\n",
       " 'Tower_size',\n",
       " 'EFlowTrack',\n",
       " 'EFlowTrack/EFlowTrack.fUniqueID',\n",
       " 'EFlowTrack/EFlowTrack.fBits',\n",
       " 'EFlowTrack/EFlowTrack.PID',\n",
       " 'EFlowTrack/EFlowTrack.Charge',\n",
       " 'EFlowTrack/EFlowTrack.P',\n",
       " 'EFlowTrack/EFlowTrack.PT',\n",
       " 'EFlowTrack/EFlowTrack.Eta',\n",
       " 'EFlowTrack/EFlowTrack.Phi',\n",
       " 'EFlowTrack/EFlowTrack.CtgTheta',\n",
       " 'EFlowTrack/EFlowTrack.C',\n",
       " 'EFlowTrack/EFlowTrack.Mass',\n",
       " 'EFlowTrack/EFlowTrack.EtaOuter',\n",
       " 'EFlowTrack/EFlowTrack.PhiOuter',\n",
       " 'EFlowTrack/EFlowTrack.T',\n",
       " 'EFlowTrack/EFlowTrack.X',\n",
       " 'EFlowTrack/EFlowTrack.Y',\n",
       " 'EFlowTrack/EFlowTrack.Z',\n",
       " 'EFlowTrack/EFlowTrack.TOuter',\n",
       " 'EFlowTrack/EFlowTrack.XOuter',\n",
       " 'EFlowTrack/EFlowTrack.YOuter',\n",
       " 'EFlowTrack/EFlowTrack.ZOuter',\n",
       " 'EFlowTrack/EFlowTrack.Xd',\n",
       " 'EFlowTrack/EFlowTrack.Yd',\n",
       " 'EFlowTrack/EFlowTrack.Zd',\n",
       " 'EFlowTrack/EFlowTrack.L',\n",
       " 'EFlowTrack/EFlowTrack.D0',\n",
       " 'EFlowTrack/EFlowTrack.DZ',\n",
       " 'EFlowTrack/EFlowTrack.Nclusters',\n",
       " 'EFlowTrack/EFlowTrack.dNdx',\n",
       " 'EFlowTrack/EFlowTrack.ErrorP',\n",
       " 'EFlowTrack/EFlowTrack.ErrorPT',\n",
       " 'EFlowTrack/EFlowTrack.ErrorPhi',\n",
       " 'EFlowTrack/EFlowTrack.ErrorCtgTheta',\n",
       " 'EFlowTrack/EFlowTrack.ErrorT',\n",
       " 'EFlowTrack/EFlowTrack.ErrorD0',\n",
       " 'EFlowTrack/EFlowTrack.ErrorDZ',\n",
       " 'EFlowTrack/EFlowTrack.ErrorC',\n",
       " 'EFlowTrack/EFlowTrack.ErrorD0Phi',\n",
       " 'EFlowTrack/EFlowTrack.ErrorD0C',\n",
       " 'EFlowTrack/EFlowTrack.ErrorD0DZ',\n",
       " 'EFlowTrack/EFlowTrack.ErrorD0CtgTheta',\n",
       " 'EFlowTrack/EFlowTrack.ErrorPhiC',\n",
       " 'EFlowTrack/EFlowTrack.ErrorPhiDZ',\n",
       " 'EFlowTrack/EFlowTrack.ErrorPhiCtgTheta',\n",
       " 'EFlowTrack/EFlowTrack.ErrorCDZ',\n",
       " 'EFlowTrack/EFlowTrack.ErrorCCtgTheta',\n",
       " 'EFlowTrack/EFlowTrack.ErrorDZCtgTheta',\n",
       " 'EFlowTrack/EFlowTrack.Particle',\n",
       " 'EFlowTrack/EFlowTrack.VertexIndex',\n",
       " 'EFlowTrack_size',\n",
       " 'EFlowPhoton',\n",
       " 'EFlowPhoton/EFlowPhoton.fUniqueID',\n",
       " 'EFlowPhoton/EFlowPhoton.fBits',\n",
       " 'EFlowPhoton/EFlowPhoton.ET',\n",
       " 'EFlowPhoton/EFlowPhoton.Eta',\n",
       " 'EFlowPhoton/EFlowPhoton.Phi',\n",
       " 'EFlowPhoton/EFlowPhoton.E',\n",
       " 'EFlowPhoton/EFlowPhoton.T',\n",
       " 'EFlowPhoton/EFlowPhoton.NTimeHits',\n",
       " 'EFlowPhoton/EFlowPhoton.Eem',\n",
       " 'EFlowPhoton/EFlowPhoton.Ehad',\n",
       " 'EFlowPhoton/EFlowPhoton.Edges[4]',\n",
       " 'EFlowPhoton/EFlowPhoton.Particles',\n",
       " 'EFlowPhoton_size',\n",
       " 'EFlowNeutralHadron',\n",
       " 'EFlowNeutralHadron/EFlowNeutralHadron.fUniqueID',\n",
       " 'EFlowNeutralHadron/EFlowNeutralHadron.fBits',\n",
       " 'EFlowNeutralHadron/EFlowNeutralHadron.ET',\n",
       " 'EFlowNeutralHadron/EFlowNeutralHadron.Eta',\n",
       " 'EFlowNeutralHadron/EFlowNeutralHadron.Phi',\n",
       " 'EFlowNeutralHadron/EFlowNeutralHadron.E',\n",
       " 'EFlowNeutralHadron/EFlowNeutralHadron.T',\n",
       " 'EFlowNeutralHadron/EFlowNeutralHadron.NTimeHits',\n",
       " 'EFlowNeutralHadron/EFlowNeutralHadron.Eem',\n",
       " 'EFlowNeutralHadron/EFlowNeutralHadron.Ehad',\n",
       " 'EFlowNeutralHadron/EFlowNeutralHadron.Edges[4]',\n",
       " 'EFlowNeutralHadron/EFlowNeutralHadron.Particles',\n",
       " 'EFlowNeutralHadron_size',\n",
       " 'GenJet',\n",
       " 'GenJet/GenJet.fUniqueID',\n",
       " 'GenJet/GenJet.fBits',\n",
       " 'GenJet/GenJet.PT',\n",
       " 'GenJet/GenJet.Eta',\n",
       " 'GenJet/GenJet.Phi',\n",
       " 'GenJet/GenJet.T',\n",
       " 'GenJet/GenJet.Mass',\n",
       " 'GenJet/GenJet.DeltaEta',\n",
       " 'GenJet/GenJet.DeltaPhi',\n",
       " 'GenJet/GenJet.Flavor',\n",
       " 'GenJet/GenJet.FlavorAlgo',\n",
       " 'GenJet/GenJet.FlavorPhys',\n",
       " 'GenJet/GenJet.BTag',\n",
       " 'GenJet/GenJet.BTagAlgo',\n",
       " 'GenJet/GenJet.BTagPhys',\n",
       " 'GenJet/GenJet.TauTag',\n",
       " 'GenJet/GenJet.TauWeight',\n",
       " 'GenJet/GenJet.Charge',\n",
       " 'GenJet/GenJet.EhadOverEem',\n",
       " 'GenJet/GenJet.NCharged',\n",
       " 'GenJet/GenJet.NNeutrals',\n",
       " 'GenJet/GenJet.NeutralEnergyFraction',\n",
       " 'GenJet/GenJet.ChargedEnergyFraction',\n",
       " 'GenJet/GenJet.Beta',\n",
       " 'GenJet/GenJet.BetaStar',\n",
       " 'GenJet/GenJet.MeanSqDeltaR',\n",
       " 'GenJet/GenJet.PTD',\n",
       " 'GenJet/GenJet.FracPt[5]',\n",
       " 'GenJet/GenJet.Tau[5]',\n",
       " 'GenJet/GenJet.SoftDroppedJet',\n",
       " 'GenJet/GenJet.SoftDroppedSubJet1',\n",
       " 'GenJet/GenJet.SoftDroppedSubJet2',\n",
       " 'GenJet/GenJet.TrimmedP4[5]',\n",
       " 'GenJet/GenJet.PrunedP4[5]',\n",
       " 'GenJet/GenJet.SoftDroppedP4[5]',\n",
       " 'GenJet/GenJet.NSubJetsTrimmed',\n",
       " 'GenJet/GenJet.NSubJetsPruned',\n",
       " 'GenJet/GenJet.NSubJetsSoftDropped',\n",
       " 'GenJet/GenJet.ExclYmerge23',\n",
       " 'GenJet/GenJet.ExclYmerge34',\n",
       " 'GenJet/GenJet.ExclYmerge45',\n",
       " 'GenJet/GenJet.ExclYmerge56',\n",
       " 'GenJet/GenJet.Constituents',\n",
       " 'GenJet/GenJet.Particles',\n",
       " 'GenJet/GenJet.Area',\n",
       " 'GenJet_size',\n",
       " 'GenMissingET',\n",
       " 'GenMissingET/GenMissingET.fUniqueID',\n",
       " 'GenMissingET/GenMissingET.fBits',\n",
       " 'GenMissingET/GenMissingET.MET',\n",
       " 'GenMissingET/GenMissingET.Eta',\n",
       " 'GenMissingET/GenMissingET.Phi',\n",
       " 'GenMissingET_size',\n",
       " 'Jet',\n",
       " 'Jet/Jet.fUniqueID',\n",
       " 'Jet/Jet.fBits',\n",
       " 'Jet/Jet.PT',\n",
       " 'Jet/Jet.Eta',\n",
       " 'Jet/Jet.Phi',\n",
       " 'Jet/Jet.T',\n",
       " 'Jet/Jet.Mass',\n",
       " 'Jet/Jet.DeltaEta',\n",
       " 'Jet/Jet.DeltaPhi',\n",
       " 'Jet/Jet.Flavor',\n",
       " 'Jet/Jet.FlavorAlgo',\n",
       " 'Jet/Jet.FlavorPhys',\n",
       " 'Jet/Jet.BTag',\n",
       " 'Jet/Jet.BTagAlgo',\n",
       " 'Jet/Jet.BTagPhys',\n",
       " 'Jet/Jet.TauTag',\n",
       " 'Jet/Jet.TauWeight',\n",
       " 'Jet/Jet.Charge',\n",
       " 'Jet/Jet.EhadOverEem',\n",
       " 'Jet/Jet.NCharged',\n",
       " 'Jet/Jet.NNeutrals',\n",
       " 'Jet/Jet.NeutralEnergyFraction',\n",
       " 'Jet/Jet.ChargedEnergyFraction',\n",
       " 'Jet/Jet.Beta',\n",
       " 'Jet/Jet.BetaStar',\n",
       " 'Jet/Jet.MeanSqDeltaR',\n",
       " 'Jet/Jet.PTD',\n",
       " 'Jet/Jet.FracPt[5]',\n",
       " 'Jet/Jet.Tau[5]',\n",
       " 'Jet/Jet.SoftDroppedJet',\n",
       " 'Jet/Jet.SoftDroppedSubJet1',\n",
       " 'Jet/Jet.SoftDroppedSubJet2',\n",
       " 'Jet/Jet.TrimmedP4[5]',\n",
       " 'Jet/Jet.PrunedP4[5]',\n",
       " 'Jet/Jet.SoftDroppedP4[5]',\n",
       " 'Jet/Jet.NSubJetsTrimmed',\n",
       " 'Jet/Jet.NSubJetsPruned',\n",
       " 'Jet/Jet.NSubJetsSoftDropped',\n",
       " 'Jet/Jet.ExclYmerge23',\n",
       " 'Jet/Jet.ExclYmerge34',\n",
       " 'Jet/Jet.ExclYmerge45',\n",
       " 'Jet/Jet.ExclYmerge56',\n",
       " 'Jet/Jet.Constituents',\n",
       " 'Jet/Jet.Particles',\n",
       " 'Jet/Jet.Area',\n",
       " 'Jet_size',\n",
       " 'Electron',\n",
       " 'Electron/Electron.fUniqueID',\n",
       " 'Electron/Electron.fBits',\n",
       " 'Electron/Electron.PT',\n",
       " 'Electron/Electron.Eta',\n",
       " 'Electron/Electron.Phi',\n",
       " 'Electron/Electron.T',\n",
       " 'Electron/Electron.Charge',\n",
       " 'Electron/Electron.EhadOverEem',\n",
       " 'Electron/Electron.Particle',\n",
       " 'Electron/Electron.IsolationVar',\n",
       " 'Electron/Electron.IsolationVarRhoCorr',\n",
       " 'Electron/Electron.SumPtCharged',\n",
       " 'Electron/Electron.SumPtNeutral',\n",
       " 'Electron/Electron.SumPtChargedPU',\n",
       " 'Electron/Electron.SumPt',\n",
       " 'Electron/Electron.D0',\n",
       " 'Electron/Electron.DZ',\n",
       " 'Electron/Electron.ErrorD0',\n",
       " 'Electron/Electron.ErrorDZ',\n",
       " 'Electron_size',\n",
       " 'Photon',\n",
       " 'Photon/Photon.fUniqueID',\n",
       " 'Photon/Photon.fBits',\n",
       " 'Photon/Photon.PT',\n",
       " 'Photon/Photon.Eta',\n",
       " 'Photon/Photon.Phi',\n",
       " 'Photon/Photon.E',\n",
       " 'Photon/Photon.T',\n",
       " 'Photon/Photon.EhadOverEem',\n",
       " 'Photon/Photon.Particles',\n",
       " 'Photon/Photon.IsolationVar',\n",
       " 'Photon/Photon.IsolationVarRhoCorr',\n",
       " 'Photon/Photon.SumPtCharged',\n",
       " 'Photon/Photon.SumPtNeutral',\n",
       " 'Photon/Photon.SumPtChargedPU',\n",
       " 'Photon/Photon.SumPt',\n",
       " 'Photon/Photon.Status',\n",
       " 'Photon_size',\n",
       " 'Muon',\n",
       " 'Muon/Muon.fUniqueID',\n",
       " 'Muon/Muon.fBits',\n",
       " 'Muon/Muon.PT',\n",
       " 'Muon/Muon.Eta',\n",
       " 'Muon/Muon.Phi',\n",
       " 'Muon/Muon.T',\n",
       " 'Muon/Muon.Charge',\n",
       " 'Muon/Muon.Particle',\n",
       " 'Muon/Muon.IsolationVar',\n",
       " 'Muon/Muon.IsolationVarRhoCorr',\n",
       " 'Muon/Muon.SumPtCharged',\n",
       " 'Muon/Muon.SumPtNeutral',\n",
       " 'Muon/Muon.SumPtChargedPU',\n",
       " 'Muon/Muon.SumPt',\n",
       " 'Muon/Muon.D0',\n",
       " 'Muon/Muon.DZ',\n",
       " 'Muon/Muon.ErrorD0',\n",
       " 'Muon/Muon.ErrorDZ',\n",
       " 'Muon_size',\n",
       " 'MissingET',\n",
       " 'MissingET/MissingET.fUniqueID',\n",
       " 'MissingET/MissingET.fBits',\n",
       " 'MissingET/MissingET.MET',\n",
       " 'MissingET/MissingET.Eta',\n",
       " 'MissingET/MissingET.Phi',\n",
       " 'MissingET_size',\n",
       " 'ScalarHT',\n",
       " 'ScalarHT/ScalarHT.fUniqueID',\n",
       " 'ScalarHT/ScalarHT.fBits',\n",
       " 'ScalarHT/ScalarHT.HT',\n",
       " 'ScalarHT_size']"
      ]
     },
     "execution_count": 7,
     "metadata": {},
     "output_type": "execute_result"
    }
   ],
   "source": [
    "tree.keys()"
   ]
  },
  {
   "cell_type": "code",
   "execution_count": 66,
   "metadata": {
    "tags": []
   },
   "outputs": [],
   "source": [
    "branches = [\"Jet.PT\", \"Jet.Eta\", \"Jet.Phi\", \"Jet.Constituents\", \"Jet.Flavor\", \n",
    "            \"Tower.ET\", \"Tower.Eta\", \"Tower.Phi\", \"Tower.fUniqueID\",\n",
    "            \"Track.PT\", \"Track.Eta\", \"Track.Phi\", \"Track.fUniqueID\",\n",
    "            \"Particle.PT\"\n",
    "           ]"
   ]
  },
  {
   "cell_type": "markdown",
   "metadata": {},
   "source": [
    "Loop over all events in the Root file. But only look at the first event!"
   ]
  },
  {
   "cell_type": "code",
   "execution_count": 67,
   "metadata": {
    "tags": []
   },
   "outputs": [],
   "source": [
    "for array in tree.iterate(branches, step_size=1):\n",
    "    break"
   ]
  },
  {
   "cell_type": "code",
   "execution_count": 68,
   "metadata": {
    "tags": []
   },
   "outputs": [
    {
     "data": {
      "text/html": [
       "<pre>[{&#x27;Jet.PT&#x27;: [82.1, 55.3, 50], &#x27;Jet.Eta&#x27;: [0.778, ...], &#x27;Jet.Phi&#x27;: [...], ...}]\n",
       "------------------------------------------------------------------------------\n",
       "type: 1 * {\n",
       "    &quot;Jet.PT&quot;: var * float32,\n",
       "    &quot;Jet.Eta&quot;: var * float32,\n",
       "    &quot;Jet.Phi&quot;: var * float32,\n",
       "    &quot;Jet.Constituents&quot;: var * TRefArray[\n",
       "        fName: string,\n",
       "        fSize: int32,\n",
       "        refs: var * int32\n",
       "    ],\n",
       "    &quot;Jet.Flavor&quot;: var * uint32,\n",
       "    &quot;Tower.ET&quot;: var * float32,\n",
       "    &quot;Tower.Eta&quot;: var * float32,\n",
       "    &quot;Tower.Phi&quot;: var * float32,\n",
       "    &quot;Tower.fUniqueID&quot;: var * uint32,\n",
       "    &quot;Track.PT&quot;: var * float32,\n",
       "    &quot;Track.Eta&quot;: var * float32,\n",
       "    &quot;Track.Phi&quot;: var * float32,\n",
       "    &quot;Track.fUniqueID&quot;: var * uint32,\n",
       "    &quot;Particle.PT&quot;: var * float32\n",
       "}</pre>"
      ],
      "text/plain": [
       "<Array [{'Jet.PT': [82.1, ...], ...}] type='1 * {\"Jet.PT\": var * float32, \"...'>"
      ]
     },
     "execution_count": 68,
     "metadata": {},
     "output_type": "execute_result"
    }
   ],
   "source": [
    "array"
   ]
  },
  {
   "cell_type": "markdown",
   "metadata": {},
   "source": [
    "### Jet properties\n",
    "\n",
    "There are three jets in the event!"
   ]
  },
  {
   "cell_type": "code",
   "execution_count": 69,
   "metadata": {
    "tags": []
   },
   "outputs": [
    {
     "data": {
      "text/plain": [
       "(<Array [[82.1, 55.3, 50]] type='1 * var * float32'>,\n",
       " <Array [[0.778, 1.51, -0.829]] type='1 * var * float32'>,\n",
       " <Array [[5, 5, 21]] type='1 * var * uint32'>)"
      ]
     },
     "execution_count": 69,
     "metadata": {},
     "output_type": "execute_result"
    }
   ],
   "source": [
    "array[\"Jet.PT\"], array[\"Jet.Eta\"], array[\"Jet.Flavor\"]"
   ]
  },
  {
   "cell_type": "markdown",
   "metadata": {},
   "source": [
    "Jet flavor of `5` means it is a b-jet (our signal); otherwise, it is a background jet."
   ]
  },
  {
   "cell_type": "markdown",
   "metadata": {},
   "source": [
    "### Tracks and Towers"
   ]
  },
  {
   "cell_type": "code",
   "execution_count": 115,
   "metadata": {
    "tags": []
   },
   "outputs": [
    {
     "name": "stdout",
     "output_type": "stream",
     "text": [
      "[915, 916, 917, 918, 919, 920, 921, 922, ..., 941, 942, 943, 944, 945, 946, 947]\n",
      "# of Tracks in the event: 33\n"
     ]
    }
   ],
   "source": [
    "track_ids = array[\"Track.fUniqueID\"][0].to_numpy()\n",
    "print(array[\"Track.fUniqueID\"][0])\n",
    "print(\"# of Tracks in the event:\", len(array[\"Track.PT\"][0]))"
   ]
  },
  {
   "cell_type": "code",
   "execution_count": 112,
   "metadata": {
    "tags": []
   },
   "outputs": [
    {
     "name": "stdout",
     "output_type": "stream",
     "text": [
      "(110,) (110,)\n",
      "# of Towers in the event: 110\n"
     ]
    }
   ],
   "source": [
    "tower_ids = array[\"Tower.fUniqueID\"][0].to_numpy()\n",
    "tower_et = array[\"Tower.ET\"][0].to_numpy()\n",
    "print(tower_ids.shape, tower_et.shape)\n",
    "print(\"# of Towers in the event:\", len(array[\"Tower.ET\"][0]))"
   ]
  },
  {
   "cell_type": "markdown",
   "metadata": {},
   "source": [
    "From these *tracks* and *towers*, we used an algorithm to reconstruct *three* jets in the event. So the jets should have connections to the tracks and towers."
   ]
  },
  {
   "cell_type": "markdown",
   "metadata": {},
   "source": [
    "### Particles"
   ]
  },
  {
   "cell_type": "code",
   "execution_count": 57,
   "metadata": {
    "tags": []
   },
   "outputs": [
    {
     "name": "stdout",
     "output_type": "stream",
     "text": [
      "# of particles:  685\n"
     ]
    }
   ],
   "source": [
    "print(\"# of particles: \", len(array[\"Particle.PT\"][0]))"
   ]
  },
  {
   "cell_type": "code",
   "execution_count": 13,
   "metadata": {
    "tags": []
   },
   "outputs": [
    {
     "data": {
      "text/html": [
       "<pre>[[{fName: &#x27;&#x27;, fSize: 10, refs: [1212, ..., 1217]}, ..., {fName: &#x27;&#x27;, ...}]]\n",
       "--------------------------------------------------------------------------\n",
       "type: 1 * var * TRefArray[\n",
       "    fName: string,\n",
       "    fSize: int32,\n",
       "    refs: var * int32\n",
       "]</pre>"
      ],
      "text/plain": [
       "<Array [[{fName: '', fSize: 10, ...}, ...]] type='1 * var * TRefArray[fName...'>"
      ]
     },
     "execution_count": 13,
     "metadata": {},
     "output_type": "execute_result"
    }
   ],
   "source": [
    "array[\"Jet.Constituents\"]"
   ]
  },
  {
   "cell_type": "code",
   "execution_count": 22,
   "metadata": {
    "tags": []
   },
   "outputs": [
    {
     "data": {
      "text/plain": [
       "3"
      ]
     },
     "execution_count": 22,
     "metadata": {},
     "output_type": "execute_result"
    }
   ],
   "source": [
    "len(array[\"Jet.Constituents\"][0])"
   ]
  },
  {
   "cell_type": "markdown",
   "metadata": {},
   "source": [
    "Let's look at the first jet's contituents."
   ]
  },
  {
   "cell_type": "code",
   "execution_count": 74,
   "metadata": {
    "tags": []
   },
   "outputs": [],
   "source": [
    "contituent = array[\"Jet.Constituents\"][0][0]"
   ]
  },
  {
   "cell_type": "markdown",
   "metadata": {},
   "source": [
    "### Tracks and Towers associated with Jets"
   ]
  },
  {
   "cell_type": "code",
   "execution_count": 114,
   "metadata": {
    "tags": []
   },
   "outputs": [
    {
     "data": {
      "text/plain": [
       "array([ 1.9069964 ,  1.0189619 ,  0.620902  ,  0.90101975,  0.40306544,\n",
       "        5.269566  , 17.173923  , 20.521887  , 22.022043  ,  9.112416  ],\n",
       "      dtype=float32)"
      ]
     },
     "execution_count": 114,
     "metadata": {},
     "output_type": "execute_result"
    }
   ],
   "source": [
    "towers_in_jet = np.isin(tower_ids, contituent.refs.to_numpy())\n",
    "tower_et_in_jet = tower_et[towers_in_jet]\n",
    "tower_et_in_jet"
   ]
  },
  {
   "cell_type": "code",
   "execution_count": 117,
   "metadata": {
    "tags": []
   },
   "outputs": [
    {
     "data": {
      "text/plain": [
       "0"
      ]
     },
     "execution_count": 117,
     "metadata": {},
     "output_type": "execute_result"
    }
   ],
   "source": [
    "tracks_in_jet = np.isin(track_ids, contituent.refs.to_numpy())\n",
    "np.sum(tracks_in_jet)"
   ]
  },
  {
   "cell_type": "markdown",
   "metadata": {},
   "source": [
    "This means no tracks associated with jets!"
   ]
  },
  {
   "cell_type": "markdown",
   "metadata": {},
   "source": [
    "Now use this as an example to do the visulization."
   ]
  },
  {
   "cell_type": "code",
   "execution_count": null,
   "metadata": {},
   "outputs": [],
   "source": []
  }
 ],
 "metadata": {
  "kernelspec": {
   "display_name": "a-py3.9",
   "language": "python",
   "name": "py3p9"
  },
  "language_info": {
   "codemirror_mode": {
    "name": "ipython",
    "version": 3
   },
   "file_extension": ".py",
   "mimetype": "text/x-python",
   "name": "python",
   "nbconvert_exporter": "python",
   "pygments_lexer": "ipython3",
   "version": "3.9.4"
  }
 },
 "nbformat": 4,
 "nbformat_minor": 4
}
